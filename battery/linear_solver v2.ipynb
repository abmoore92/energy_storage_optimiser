{
 "cells": [
  {
   "cell_type": "code",
   "execution_count": 1,
   "metadata": {},
   "outputs": [],
   "source": [
    "from pulp import *\n",
    "import pandas as pd\n",
    "import plotly.express as px\n",
    "from models import *\n",
    "import numpy as np"
   ]
  },
  {
   "cell_type": "markdown",
   "metadata": {},
   "source": [
    "## Load in data"
   ]
  },
  {
   "cell_type": "code",
   "execution_count": 2,
   "metadata": {},
   "outputs": [],
   "source": [
    "def load_res_profile(file:str)->pd.Series:\n",
    "\n",
    "    res_norm = pd.read_csv(f'data/renewable_profiles/{file}',skiprows=3,index_col=0)\n",
    "    res_norm.index = pd.to_datetime(res_norm.index)\n",
    "    res_norm = res_norm['electricity']\n",
    "    return res_norm\n",
    "\n",
    "wind_profile = 'wind_amsterdam.csv'\n",
    "solar_profile = 'solar_amsterdam.csv'\n",
    "\n",
    "wind = load_res_profile(wind_profile)\n",
    "solar = load_res_profile(solar_profile)"
   ]
  },
  {
   "cell_type": "code",
   "execution_count": null,
   "metadata": {},
   "outputs": [],
   "source": []
  },
  {
   "cell_type": "code",
   "execution_count": 3,
   "metadata": {},
   "outputs": [
    {
     "name": "stdout",
     "output_type": "stream",
     "text": [
      "Solar 100\n",
      "Wind 300\n"
     ]
    },
    {
     "data": {
      "text/html": [
       "<div>\n",
       "<style scoped>\n",
       "    .dataframe tbody tr th:only-of-type {\n",
       "        vertical-align: middle;\n",
       "    }\n",
       "\n",
       "    .dataframe tbody tr th {\n",
       "        vertical-align: top;\n",
       "    }\n",
       "\n",
       "    .dataframe thead th {\n",
       "        text-align: right;\n",
       "    }\n",
       "</style>\n",
       "<table border=\"1\" class=\"dataframe\">\n",
       "  <thead>\n",
       "    <tr style=\"text-align: right;\">\n",
       "      <th></th>\n",
       "      <th>Solar</th>\n",
       "      <th>Wind</th>\n",
       "      <th>Total</th>\n",
       "    </tr>\n",
       "    <tr>\n",
       "      <th>time</th>\n",
       "      <th></th>\n",
       "      <th></th>\n",
       "      <th></th>\n",
       "    </tr>\n",
       "  </thead>\n",
       "  <tbody>\n",
       "    <tr>\n",
       "      <th>2019-01-01 00:00:00</th>\n",
       "      <td>0.0</td>\n",
       "      <td>185.7</td>\n",
       "      <td>185.7</td>\n",
       "    </tr>\n",
       "    <tr>\n",
       "      <th>2019-01-01 01:00:00</th>\n",
       "      <td>0.0</td>\n",
       "      <td>192.9</td>\n",
       "      <td>192.9</td>\n",
       "    </tr>\n",
       "    <tr>\n",
       "      <th>2019-01-01 02:00:00</th>\n",
       "      <td>0.0</td>\n",
       "      <td>196.5</td>\n",
       "      <td>196.5</td>\n",
       "    </tr>\n",
       "    <tr>\n",
       "      <th>2019-01-01 03:00:00</th>\n",
       "      <td>0.0</td>\n",
       "      <td>212.4</td>\n",
       "      <td>212.4</td>\n",
       "    </tr>\n",
       "    <tr>\n",
       "      <th>2019-01-01 04:00:00</th>\n",
       "      <td>0.0</td>\n",
       "      <td>223.8</td>\n",
       "      <td>223.8</td>\n",
       "    </tr>\n",
       "    <tr>\n",
       "      <th>...</th>\n",
       "      <td>...</td>\n",
       "      <td>...</td>\n",
       "      <td>...</td>\n",
       "    </tr>\n",
       "    <tr>\n",
       "      <th>2019-12-31 19:00:00</th>\n",
       "      <td>0.0</td>\n",
       "      <td>46.2</td>\n",
       "      <td>46.2</td>\n",
       "    </tr>\n",
       "    <tr>\n",
       "      <th>2019-12-31 20:00:00</th>\n",
       "      <td>0.0</td>\n",
       "      <td>45.9</td>\n",
       "      <td>45.9</td>\n",
       "    </tr>\n",
       "    <tr>\n",
       "      <th>2019-12-31 21:00:00</th>\n",
       "      <td>0.0</td>\n",
       "      <td>46.5</td>\n",
       "      <td>46.5</td>\n",
       "    </tr>\n",
       "    <tr>\n",
       "      <th>2019-12-31 22:00:00</th>\n",
       "      <td>0.0</td>\n",
       "      <td>50.4</td>\n",
       "      <td>50.4</td>\n",
       "    </tr>\n",
       "    <tr>\n",
       "      <th>2019-12-31 23:00:00</th>\n",
       "      <td>0.0</td>\n",
       "      <td>52.8</td>\n",
       "      <td>52.8</td>\n",
       "    </tr>\n",
       "  </tbody>\n",
       "</table>\n",
       "<p>8760 rows × 3 columns</p>\n",
       "</div>"
      ],
      "text/plain": [
       "                     Solar   Wind  Total\n",
       "time                                    \n",
       "2019-01-01 00:00:00    0.0  185.7  185.7\n",
       "2019-01-01 01:00:00    0.0  192.9  192.9\n",
       "2019-01-01 02:00:00    0.0  196.5  196.5\n",
       "2019-01-01 03:00:00    0.0  212.4  212.4\n",
       "2019-01-01 04:00:00    0.0  223.8  223.8\n",
       "...                    ...    ...    ...\n",
       "2019-12-31 19:00:00    0.0   46.2   46.2\n",
       "2019-12-31 20:00:00    0.0   45.9   45.9\n",
       "2019-12-31 21:00:00    0.0   46.5   46.5\n",
       "2019-12-31 22:00:00    0.0   50.4   50.4\n",
       "2019-12-31 23:00:00    0.0   52.8   52.8\n",
       "\n",
       "[8760 rows x 3 columns]"
      ]
     },
     "execution_count": 3,
     "metadata": {},
     "output_type": "execute_result"
    }
   ],
   "source": [
    "res = Renewables(\n",
    "    names=['Solar','Wind'],\n",
    "    capacities={'Solar':100,'Wind':300},\n",
    "    profiles=pd.concat([wind,solar],axis=1,keys=['Wind','Solar'])\n",
    ")\n",
    "\n",
    "res.generation"
   ]
  },
  {
   "cell_type": "code",
   "execution_count": 4,
   "metadata": {},
   "outputs": [
    {
     "data": {
      "text/plain": [
       "range(0, 8760)"
      ]
     },
     "execution_count": 4,
     "metadata": {},
     "output_type": "execute_result"
    }
   ],
   "source": [
    "time_index = range(res.generation.shape[0])\n",
    "time_index"
   ]
  },
  {
   "cell_type": "markdown",
   "metadata": {},
   "source": [
    "## Define load and renewables size (MW)"
   ]
  },
  {
   "cell_type": "code",
   "execution_count": 5,
   "metadata": {},
   "outputs": [
    {
     "data": {
      "text/plain": [
       "time\n",
       "2019-01-01 00:00:00    80.0\n",
       "2019-01-01 01:00:00    80.0\n",
       "2019-01-01 02:00:00    80.0\n",
       "2019-01-01 03:00:00    80.0\n",
       "2019-01-01 04:00:00    80.0\n",
       "                       ... \n",
       "2019-12-31 19:00:00    80.0\n",
       "2019-12-31 20:00:00    80.0\n",
       "2019-12-31 21:00:00    80.0\n",
       "2019-12-31 22:00:00    80.0\n",
       "2019-12-31 23:00:00    80.0\n",
       "Length: 8760, dtype: float64"
      ]
     },
     "execution_count": 5,
     "metadata": {},
     "output_type": "execute_result"
    }
   ],
   "source": [
    "load = Load(\n",
    "    capacity=80,\n",
    "    profile=pd.Series(np.ones(len(time_index)),index=res.generation.index)\n",
    ")\n",
    "load.load"
   ]
  },
  {
   "cell_type": "code",
   "execution_count": 6,
   "metadata": {},
   "outputs": [],
   "source": [
    "storage = Storage(\n",
    "    efficiency=0.7,\n",
    "    minimum_duration=10,\n",
    "    capex_power=800,\n",
    "    capex_capacity=100,\n",
    ")"
   ]
  },
  {
   "cell_type": "code",
   "execution_count": 7,
   "metadata": {},
   "outputs": [],
   "source": [
    "inputs = ScenarioInputs(\n",
    "    name='BaseCase',\n",
    "    time_index=time_index,\n",
    "    renewables =res,\n",
    "    load=load,\n",
    "    storage=storage\n",
    "\n",
    ")"
   ]
  },
  {
   "cell_type": "code",
   "execution_count": 11,
   "metadata": {},
   "outputs": [],
   "source": [
    "scenario = Model(inputs=inputs)"
   ]
  },
  {
   "cell_type": "code",
   "execution_count": 13,
   "metadata": {},
   "outputs": [
    {
     "name": "stdout",
     "output_type": "stream",
     "text": [
      "Welcome to the CBC MILP Solver \n",
      "Version: 2.10.3 \n",
      "Build Date: Dec 15 2019 \n",
      "\n",
      "command line - /Users/andrewmoore/.pyenv/versions/3.8.12/envs/py3-twaice/lib/python3.8/site-packages/pulp/apis/../solverdir/cbc/osx/64/cbc /var/folders/69/tcb5hky53c9d4y57_lvg5f2r0000gn/T/431031641b2b46e58de608989319a841-pulp.mps timeMode elapsed branch printingOptions all solution /var/folders/69/tcb5hky53c9d4y57_lvg5f2r0000gn/T/431031641b2b46e58de608989319a841-pulp.sol (default strategy 1)\n",
      "At line 2 NAME          MODEL\n",
      "At line 3 ROWS\n",
      "At line 43806 COLUMNS\n",
      "Duplicate row C0000001 at line 70097 <     X0000004  C0000001   1.000000000000e+00 >\n",
      "Duplicate row C0000002 at line 70098 <     X0000004  C0000002  -7.000000000000e-01 >\n",
      "Duplicate row C0008761 at line 70099 <     X0000004  C0008761   1.000000000000e+00 >\n",
      "Duplicate row C0008762 at line 70100 <     X0000004  C0008762   1.000000000000e+00 >\n",
      "Duplicate row C0008763 at line 70101 <     X0000004  C0008763   1.000000000000e+00 >\n",
      "Duplicate row C0008764 at line 70102 <     X0000004  C0008764  -1.000000000000e+00 >\n",
      "Duplicate row C0000001 at line 70103 <     X0000004  C0000001   1.000000000000e+00 >\n",
      "Duplicate row C0000002 at line 70104 <     X0000004  C0000002  -7.000000000000e-01 >\n",
      "Duplicate row C0008761 at line 70105 <     X0000004  C0008761   1.000000000000e+00 >\n",
      "Duplicate row C0008762 at line 70106 <     X0000004  C0008762   1.000000000000e+00 >\n",
      "Duplicate row C0008763 at line 70107 <     X0000004  C0008763   1.000000000000e+00 >\n",
      "Duplicate row C0008764 at line 70108 <     X0000004  C0008764  -1.000000000000e+00 >\n",
      "Duplicate row C0000002 at line 70115 <     X0000007  C0000002   1.000000000000e+00 >\n",
      "Duplicate row C0000003 at line 70116 <     X0000007  C0000003  -7.000000000000e-01 >\n",
      "Duplicate row C0008765 at line 70117 <     X0000007  C0008765   1.000000000000e+00 >\n",
      "Duplicate row C0008766 at line 70118 <     X0000007  C0008766   1.000000000000e+00 >\n",
      "Duplicate row C0008767 at line 70119 <     X0000007  C0008767   1.000000000000e+00 >\n",
      "Duplicate row C0008768 at line 70120 <     X0000007  C0008768  -1.000000000000e+00 >\n",
      "Duplicate row C0000002 at line 70121 <     X0000007  C0000002   1.000000000000e+00 >\n",
      "Duplicate row C0000003 at line 70122 <     X0000007  C0000003  -7.000000000000e-01 >\n",
      "Duplicate row C0008765 at line 70123 <     X0000007  C0008765   1.000000000000e+00 >\n",
      "Duplicate row C0008766 at line 70124 <     X0000007  C0008766   1.000000000000e+00 >\n",
      "Duplicate row C0008767 at line 70125 <     X0000007  C0008767   1.000000000000e+00 >\n",
      "Duplicate row C0008768 at line 70126 <     X0000007  C0008768  -1.000000000000e+00 >\n",
      "Duplicate row C0000011 at line 70133 <     X0000010  C0000011   1.000000000000e+00 >\n",
      "Duplicate row C0000012 at line 70134 <     X0000010  C0000012  -7.000000000000e-01 >\n",
      "Duplicate row C0008801 at line 70135 <     X0000010  C0008801   1.000000000000e+00 >\n",
      "Duplicate row C0008802 at line 70136 <     X0000010  C0008802   1.000000000000e+00 >\n",
      "Duplicate row C0008803 at line 70137 <     X0000010  C0008803   1.000000000000e+00 >\n",
      "Duplicate row C0008804 at line 70138 <     X0000010  C0008804  -1.000000000000e+00 >\n",
      "Duplicate row C0000011 at line 70139 <     X0000010  C0000011   1.000000000000e+00 >\n",
      "Duplicate row C0000012 at line 70140 <     X0000010  C0000012  -7.000000000000e-01 >\n",
      "Duplicate row C0008801 at line 70141 <     X0000010  C0008801   1.000000000000e+00 >\n",
      "Duplicate row C0008802 at line 70142 <     X0000010  C0008802   1.000000000000e+00 >\n",
      "Duplicate row C0008803 at line 70143 <     X0000010  C0008803   1.000000000000e+00 >\n",
      "Duplicate row C0008804 at line 70144 <     X0000010  C0008804  -1.000000000000e+00 >\n",
      "Duplicate row C0000101 at line 70151 <     X0000013  C0000101   1.000000000000e+00 >\n",
      "Duplicate row C0000102 at line 70152 <     X0000013  C0000102  -7.000000000000e-01 >\n",
      "Duplicate row C0009161 at line 70153 <     X0000013  C0009161   1.000000000000e+00 >\n",
      "Duplicate row C0009162 at line 70154 <     X0000013  C0009162   1.000000000000e+00 >\n",
      "Duplicate row C0009163 at line 70155 <     X0000013  C0009163   1.000000000000e+00 >\n",
      "Duplicate row C0009164 at line 70156 <     X0000013  C0009164  -1.000000000000e+00 >\n",
      "Duplicate row C0000101 at line 70157 <     X0000013  C0000101   1.000000000000e+00 >\n",
      "Duplicate row C0000102 at line 70158 <     X0000013  C0000102  -7.000000000000e-01 >\n",
      "Duplicate row C0009161 at line 70159 <     X0000013  C0009161   1.000000000000e+00 >\n",
      "Duplicate row C0009162 at line 70160 <     X0000013  C0009162   1.000000000000e+00 >\n",
      "Duplicate row C0009163 at line 70161 <     X0000013  C0009163   1.000000000000e+00 >\n",
      "Duplicate row C0009164 at line 70162 <     X0000013  C0009164  -1.000000000000e+00 >\n",
      "Duplicate row C0001001 at line 70169 <     X0000016  C0001001   1.000000000000e+00 >\n",
      "Duplicate row C0001002 at line 70170 <     X0000016  C0001002  -7.000000000000e-01 >\n",
      "Duplicate row C0012761 at line 70171 <     X0000016  C0012761   1.000000000000e+00 >\n",
      "Duplicate row C0012762 at line 70172 <     X0000016  C0012762   1.000000000000e+00 >\n",
      "Duplicate row C0012763 at line 70173 <     X0000016  C0012763   1.000000000000e+00 >\n",
      "Duplicate row C0012764 at line 70174 <     X0000016  C0012764  -1.000000000000e+00 >\n",
      "Duplicate row C0001001 at line 70175 <     X0000016  C0001001   1.000000000000e+00 >\n",
      "Duplicate row C0001002 at line 70176 <     X0000016  C0001002  -7.000000000000e-01 >\n",
      "Duplicate row C0012761 at line 70177 <     X0000016  C0012761   1.000000000000e+00 >\n",
      "Duplicate row C0012762 at line 70178 <     X0000016  C0012762   1.000000000000e+00 >\n",
      "Duplicate row C0012763 at line 70179 <     X0000016  C0012763   1.000000000000e+00 >\n",
      "Duplicate row C0012764 at line 70180 <     X0000016  C0012764  -1.000000000000e+00 >\n",
      "Duplicate row C0001002 at line 70187 <     X0000019  C0001002   1.000000000000e+00 >\n",
      "Duplicate row C0001003 at line 70188 <     X0000019  C0001003  -7.000000000000e-01 >\n",
      "Duplicate row C0012765 at line 70189 <     X0000019  C0012765   1.000000000000e+00 >\n",
      "Duplicate row C0012766 at line 70190 <     X0000019  C0012766   1.000000000000e+00 >\n",
      "Duplicate row C0012767 at line 70191 <     X0000019  C0012767   1.000000000000e+00 >\n",
      "Duplicate row C0012768 at line 70192 <     X0000019  C0012768  -1.000000000000e+00 >\n",
      "Duplicate row C0001002 at line 70193 <     X0000019  C0001002   1.000000000000e+00 >\n",
      "Duplicate row C0001003 at line 70194 <     X0000019  C0001003  -7.000000000000e-01 >\n",
      "Duplicate row C0012765 at line 70195 <     X0000019  C0012765   1.000000000000e+00 >\n",
      "Duplicate row C0012766 at line 70196 <     X0000019  C0012766   1.000000000000e+00 >\n",
      "Duplicate row C0012767 at line 70197 <     X0000019  C0012767   1.000000000000e+00 >\n",
      "Duplicate row C0012768 at line 70198 <     X0000019  C0012768  -1.000000000000e+00 >\n",
      "Duplicate row C0001003 at line 70205 <     X0000022  C0001003   1.000000000000e+00 >\n",
      "Duplicate row C0001004 at line 70206 <     X0000022  C0001004  -7.000000000000e-01 >\n",
      "Duplicate row C0012769 at line 70207 <     X0000022  C0012769   1.000000000000e+00 >\n",
      "Duplicate row C0012770 at line 70208 <     X0000022  C0012770   1.000000000000e+00 >\n",
      "Duplicate row C0012771 at line 70209 <     X0000022  C0012771   1.000000000000e+00 >\n",
      "Duplicate row C0012772 at line 70210 <     X0000022  C0012772  -1.000000000000e+00 >\n",
      "Duplicate row C0001003 at line 70211 <     X0000022  C0001003   1.000000000000e+00 >\n",
      "Duplicate row C0001004 at line 70212 <     X0000022  C0001004  -7.000000000000e-01 >\n",
      "Duplicate row C0012769 at line 70213 <     X0000022  C0012769   1.000000000000e+00 >\n",
      "Duplicate row C0012770 at line 70214 <     X0000022  C0012770   1.000000000000e+00 >\n",
      "Duplicate row C0012771 at line 70215 <     X0000022  C0012771   1.000000000000e+00 >\n",
      "Duplicate row C0012772 at line 70216 <     X0000022  C0012772  -1.000000000000e+00 >\n",
      "Duplicate row C0001004 at line 70223 <     X0000025  C0001004   1.000000000000e+00 >\n",
      "Duplicate row C0001005 at line 70224 <     X0000025  C0001005  -7.000000000000e-01 >\n",
      "Duplicate row C0012773 at line 70225 <     X0000025  C0012773   1.000000000000e+00 >\n",
      "Duplicate row C0012774 at line 70226 <     X0000025  C0012774   1.000000000000e+00 >\n",
      "Duplicate row C0012775 at line 70227 <     X0000025  C0012775   1.000000000000e+00 >\n",
      "Duplicate row C0012776 at line 70228 <     X0000025  C0012776  -1.000000000000e+00 >\n",
      "Duplicate row C0001004 at line 70229 <     X0000025  C0001004   1.000000000000e+00 >\n",
      "Duplicate row C0001005 at line 70230 <     X0000025  C0001005  -7.000000000000e-01 >\n",
      "Duplicate row C0012773 at line 70231 <     X0000025  C0012773   1.000000000000e+00 >\n",
      "Duplicate row C0012774 at line 70232 <     X0000025  C0012774   1.000000000000e+00 >\n",
      "Duplicate row C0012775 at line 70233 <     X0000025  C0012775   1.000000000000e+00 >\n",
      "Duplicate row C0012776 at line 70234 <     X0000025  C0012776  -1.000000000000e+00 >\n",
      "Duplicate row C0001005 at line 70241 <     X0000028  C0001005   1.000000000000e+00 >\n",
      "Duplicate row C0001006 at line 70242 <     X0000028  C0001006  -7.000000000000e-01 >\n",
      "Duplicate row C0012777 at line 70243 <     X0000028  C0012777   1.000000000000e+00 >\n",
      "Returning as too many errors\n",
      "Coin0008I MODEL read with 100001 errors\n",
      "There were 100001 errors on input\n",
      "Option for timeMode changed from cpu to elapsed\n",
      "** Current model not valid\n",
      "Option for printingOptions changed from normal to all\n",
      "** Current model not valid\n",
      "No match for /var/folders/69/tcb5hky53c9d4y57_lvg5f2r0000gn/T/431031641b2b46e58de608989319a841-pulp.sol - ? for list of commands\n",
      "Total time (CPU seconds):       0.08   (Wallclock seconds):       0.09\n",
      "\n"
     ]
    },
    {
     "ename": "PulpSolverError",
     "evalue": "Pulp: Error while executing /Users/andrewmoore/.pyenv/versions/3.8.12/envs/py3-twaice/lib/python3.8/site-packages/pulp/apis/../solverdir/cbc/osx/64/cbc",
     "output_type": "error",
     "traceback": [
      "\u001b[0;31m---------------------------------------------------------------------------\u001b[0m",
      "\u001b[0;31mPulpSolverError\u001b[0m                           Traceback (most recent call last)",
      "Cell \u001b[0;32mIn [13], line 1\u001b[0m\n\u001b[0;32m----> 1\u001b[0m scenario\u001b[39m.\u001b[39;49msolve()\n",
      "File \u001b[0;32m~/Code/battery/battery/models.py:137\u001b[0m, in \u001b[0;36mModel.solve\u001b[0;34m(self)\u001b[0m\n\u001b[1;32m    136\u001b[0m \u001b[39mdef\u001b[39;00m \u001b[39msolve\u001b[39m(\u001b[39mself\u001b[39m)\u001b[39m-\u001b[39m\u001b[39m>\u001b[39m\u001b[39mNone\u001b[39;00m:\n\u001b[0;32m--> 137\u001b[0m     \u001b[39mself\u001b[39;49m\u001b[39m.\u001b[39;49mmodel\u001b[39m.\u001b[39;49msolve()\n",
      "File \u001b[0;32m~/.pyenv/versions/3.8.12/envs/py3-twaice/lib/python3.8/site-packages/pulp/pulp.py:1913\u001b[0m, in \u001b[0;36mLpProblem.solve\u001b[0;34m(self, solver, **kwargs)\u001b[0m\n\u001b[1;32m   1911\u001b[0m \u001b[39m# time it\u001b[39;00m\n\u001b[1;32m   1912\u001b[0m \u001b[39mself\u001b[39m\u001b[39m.\u001b[39mstartClock()\n\u001b[0;32m-> 1913\u001b[0m status \u001b[39m=\u001b[39m solver\u001b[39m.\u001b[39;49mactualSolve(\u001b[39mself\u001b[39;49m, \u001b[39m*\u001b[39;49m\u001b[39m*\u001b[39;49mkwargs)\n\u001b[1;32m   1914\u001b[0m \u001b[39mself\u001b[39m\u001b[39m.\u001b[39mstopClock()\n\u001b[1;32m   1915\u001b[0m \u001b[39mself\u001b[39m\u001b[39m.\u001b[39mrestoreObjective(wasNone, dummyVar)\n",
      "File \u001b[0;32m~/.pyenv/versions/3.8.12/envs/py3-twaice/lib/python3.8/site-packages/pulp/apis/coin_api.py:137\u001b[0m, in \u001b[0;36mCOIN_CMD.actualSolve\u001b[0;34m(self, lp, **kwargs)\u001b[0m\n\u001b[1;32m    135\u001b[0m \u001b[39mdef\u001b[39;00m \u001b[39mactualSolve\u001b[39m(\u001b[39mself\u001b[39m, lp, \u001b[39m*\u001b[39m\u001b[39m*\u001b[39mkwargs):\n\u001b[1;32m    136\u001b[0m     \u001b[39m\"\"\"Solve a well formulated lp problem\"\"\"\u001b[39;00m\n\u001b[0;32m--> 137\u001b[0m     \u001b[39mreturn\u001b[39;00m \u001b[39mself\u001b[39;49m\u001b[39m.\u001b[39;49msolve_CBC(lp, \u001b[39m*\u001b[39;49m\u001b[39m*\u001b[39;49mkwargs)\n",
      "File \u001b[0;32m~/.pyenv/versions/3.8.12/envs/py3-twaice/lib/python3.8/site-packages/pulp/apis/coin_api.py:205\u001b[0m, in \u001b[0;36mCOIN_CMD.solve_CBC\u001b[0;34m(self, lp, use_mps)\u001b[0m\n\u001b[1;32m    203\u001b[0m     pipe\u001b[39m.\u001b[39mclose()\n\u001b[1;32m    204\u001b[0m \u001b[39mif\u001b[39;00m \u001b[39mnot\u001b[39;00m os\u001b[39m.\u001b[39mpath\u001b[39m.\u001b[39mexists(tmpSol):\n\u001b[0;32m--> 205\u001b[0m     \u001b[39mraise\u001b[39;00m PulpSolverError(\u001b[39m\"\u001b[39m\u001b[39mPulp: Error while executing \u001b[39m\u001b[39m\"\u001b[39m \u001b[39m+\u001b[39m \u001b[39mself\u001b[39m\u001b[39m.\u001b[39mpath)\n\u001b[1;32m    206\u001b[0m (\n\u001b[1;32m    207\u001b[0m     status,\n\u001b[1;32m    208\u001b[0m     values,\n\u001b[0;32m   (...)\u001b[0m\n\u001b[1;32m    212\u001b[0m     sol_status,\n\u001b[1;32m    213\u001b[0m ) \u001b[39m=\u001b[39m \u001b[39mself\u001b[39m\u001b[39m.\u001b[39mreadsol_MPS(tmpSol, lp, vs, variablesNames, constraintsNames)\n\u001b[1;32m    214\u001b[0m lp\u001b[39m.\u001b[39massignVarsVals(values)\n",
      "\u001b[0;31mPulpSolverError\u001b[0m: Pulp: Error while executing /Users/andrewmoore/.pyenv/versions/3.8.12/envs/py3-twaice/lib/python3.8/site-packages/pulp/apis/../solverdir/cbc/osx/64/cbc"
     ]
    }
   ],
   "source": [
    "scenario.solve()"
   ]
  },
  {
   "cell_type": "markdown",
   "metadata": {},
   "source": [
    "## Results"
   ]
  },
  {
   "cell_type": "code",
   "execution_count": null,
   "metadata": {},
   "outputs": [],
   "source": [
    "for var in scenario.model.variables():\n",
    "    if var.name in ['capacity','power']:\n",
    "        print(f\"{var.name}: {var.value()}\")"
   ]
  },
  {
   "cell_type": "code",
   "execution_count": null,
   "metadata": {},
   "outputs": [],
   "source": [
    "variables = {}\n",
    "for v in scenario.model.variables():\n",
    "    variables[v.name] = v.value()\n"
   ]
  },
  {
   "cell_type": "code",
   "execution_count": null,
   "metadata": {},
   "outputs": [],
   "source": [
    "var_df = pd.Series(variables).reset_index()\n",
    "var_df.rename(columns={0:'value'},inplace=True)\n",
    "\n",
    "var_df['parameter'] = var_df['index'].str.split('_').str[0]\n",
    "var_df"
   ]
  },
  {
   "cell_type": "code",
   "execution_count": null,
   "metadata": {},
   "outputs": [],
   "source": [
    "time_results = var_df.loc[var_df['parameter'].isin(['storagelevel','charge','discharge'])].copy()\n",
    "\n",
    "time_results['timestep'] = time_results['index'].str.split('_').str[-1]\n",
    "time_results['timestep'] = pd.to_numeric(time_results['timestep'])\n",
    "\n",
    "time_results['time'] = df.index[0]+pd.to_timedelta(time_results['timestep'] + start_date_hours, unit='H')\n",
    "time_results=time_results.sort_values(by=['parameter','time'])"
   ]
  },
  {
   "cell_type": "code",
   "execution_count": null,
   "metadata": {},
   "outputs": [],
   "source": [
    "plot_df = time_results.pivot(index='time',columns='parameter',values='value')\n",
    "plot_df['charge_cumulative'] = plot_df['charge'].cumsum()\n",
    "plot_df['discharge_cumulative'] = plot_df['discharge'].cumsum()\n",
    "\n",
    "\n",
    "plot_df = pd.concat([plot_df,df['Renewable Production']],axis=1)\n",
    "plot_df['Load'] = load\n",
    "plot_df['Curtailment_final'] = plot_df['Renewable Production'] + plot_df['discharge'] - plot_df['charge'] - load \n",
    "plot_df.describe()"
   ]
  },
  {
   "cell_type": "code",
   "execution_count": null,
   "metadata": {},
   "outputs": [],
   "source": [
    "px.line(plot_df,title=f'Storage dispatch. Power {round(variables[\"power\"],0)} capacity {round(variables[\"capacity\"],0)}')"
   ]
  },
  {
   "cell_type": "code",
   "execution_count": null,
   "metadata": {},
   "outputs": [],
   "source": [
    "plot_df['net charge'] = -plot_df['charge']\n",
    "\n",
    "generation_params = [\n",
    "    'net charge',\n",
    "    'discharge',\n",
    "    'Renewable Production'\n",
    "]\n",
    "px.area(plot_df[generation_params],title='Generation minus storage charging')"
   ]
  },
  {
   "cell_type": "code",
   "execution_count": null,
   "metadata": {},
   "outputs": [],
   "source": [
    "px.area(plot_df[generation_params].resample('1m').mean(),title='Monthly generation and storage averages')"
   ]
  },
  {
   "cell_type": "code",
   "execution_count": null,
   "metadata": {},
   "outputs": [],
   "source": []
  }
 ],
 "metadata": {
  "kernelspec": {
   "display_name": "Python 3.8.12 64-bit ('py3-twaice')",
   "language": "python",
   "name": "python3"
  },
  "language_info": {
   "codemirror_mode": {
    "name": "ipython",
    "version": 3
   },
   "file_extension": ".py",
   "mimetype": "text/x-python",
   "name": "python",
   "nbconvert_exporter": "python",
   "pygments_lexer": "ipython3",
   "version": "3.8.12"
  },
  "orig_nbformat": 4,
  "vscode": {
   "interpreter": {
    "hash": "3d1dc97d1bde0c16a0c33116907d87e240972814241db973d31f50ec7b27ea2b"
   }
  }
 },
 "nbformat": 4,
 "nbformat_minor": 2
}
