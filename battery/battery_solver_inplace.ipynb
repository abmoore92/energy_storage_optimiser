{
 "cells": [
  {
   "cell_type": "code",
   "execution_count": null,
   "metadata": {},
   "outputs": [],
   "source": [
    "from pulp import *\n",
    "import pandas as pd\n",
    "import plotly.express as px"
   ]
  },
  {
   "cell_type": "markdown",
   "metadata": {},
   "source": [
    "## Load in data"
   ]
  },
  {
   "cell_type": "code",
   "execution_count": null,
   "metadata": {},
   "outputs": [],
   "source": [
    "def load_res_profile(file:str)->pd.Series:\n",
    "\n",
    "    res_norm = pd.read_csv(f'data/renewable_profiles/{file}',skiprows=3,index_col=0)\n",
    "    res_norm.index = pd.to_datetime(res_norm.index)\n",
    "    res_norm = res_norm['electricity']\n",
    "    return res_norm\n",
    "\n",
    "wind_profile = 'wind_amsterdam.csv'\n",
    "solar_profile = 'solar_amsterdam.csv'\n",
    "\n",
    "wind = load_res_profile(wind_profile).iloc[:2]\n",
    "solar = load_res_profile(solar_profile).iloc[:2]"
   ]
  },
  {
   "cell_type": "markdown",
   "metadata": {},
   "source": [
    "## Define load and renewables size (MW)"
   ]
  },
  {
   "cell_type": "code",
   "execution_count": null,
   "metadata": {},
   "outputs": [],
   "source": [
    "load = 80\n",
    "solar_cap = 100\n",
    "wind_cap = 200\n",
    "\n",
    "res = (wind * wind_cap) + (solar * solar_cap)\n",
    "res.name = 'Renewable Production'\n",
    "res"
   ]
  },
  {
   "cell_type": "code",
   "execution_count": null,
   "metadata": {},
   "outputs": [],
   "source": [
    "df = pd.DataFrame(res)\n",
    "df['Total Load'] = load\n",
    "df['LoL initial'] = df['Total Load'] - df['Renewable Production']\n",
    "df.describe()"
   ]
  },
  {
   "cell_type": "code",
   "execution_count": null,
   "metadata": {},
   "outputs": [],
   "source": [
    "lol_mean =df['LoL initial'].mean()\n",
    "if lol_mean > 0:\n",
    "    raise Exception(f'Dataset has less res supply than load, solve is impossible. loss of load average: {lol_mean}')\n"
   ]
  },
  {
   "cell_type": "code",
   "execution_count": null,
   "metadata": {},
   "outputs": [],
   "source": [
    "px.line(df['LoL initial'],title='Loss of load (negative means excess supply)')"
   ]
  },
  {
   "cell_type": "code",
   "execution_count": null,
   "metadata": {},
   "outputs": [],
   "source": [
    "plot_cols = ['Total Load','Renewable Production','LoL initial']\n",
    "px.line(df.groupby(df.index.month)[plot_cols].sum(),title='Monthly loss of load')"
   ]
  },
  {
   "cell_type": "markdown",
   "metadata": {},
   "source": [
    "## Load constants"
   ]
  },
  {
   "cell_type": "code",
   "execution_count": null,
   "metadata": {},
   "outputs": [],
   "source": [
    "#res = res_series.values.tolist()"
   ]
  },
  {
   "cell_type": "code",
   "execution_count": null,
   "metadata": {},
   "outputs": [],
   "source": [
    "time_periods = range(df.shape[0])\n",
    "time_periods"
   ]
  },
  {
   "cell_type": "code",
   "execution_count": null,
   "metadata": {},
   "outputs": [],
   "source": [
    "#Power must at least be able to match worst loss of load event in pre-storage setup\n",
    "power_min = df['LoL initial'].max()\n",
    "power_min"
   ]
  },
  {
   "cell_type": "markdown",
   "metadata": {},
   "source": [
    "## Define linear problem"
   ]
  },
  {
   "cell_type": "code",
   "execution_count": null,
   "metadata": {},
   "outputs": [],
   "source": [
    "model = LpProblem(name=\"battery\", sense=LpMinimize)\n"
   ]
  },
  {
   "cell_type": "markdown",
   "metadata": {},
   "source": [
    "### Define scalar variables"
   ]
  },
  {
   "cell_type": "code",
   "execution_count": null,
   "metadata": {},
   "outputs": [],
   "source": [
    "capacity = LpVariable(name='capacity',lowBound=0)\n",
    "power = LpVariable(name='power',lowBound=power_min) #power_min"
   ]
  },
  {
   "cell_type": "markdown",
   "metadata": {},
   "source": [
    "### Define time-dependent variables"
   ]
  },
  {
   "cell_type": "code",
   "execution_count": null,
   "metadata": {},
   "outputs": [],
   "source": [
    "level_i = LpVariable.dicts(name='storagelevel',indices=time_periods,lowBound=0)\n",
    "#level_i"
   ]
  },
  {
   "cell_type": "code",
   "execution_count": null,
   "metadata": {},
   "outputs": [],
   "source": [
    "dischrg_i = LpVariable.dicts(name='discharge',indices=time_periods,lowBound=0)\n",
    "chrg_i = LpVariable.dicts(name='charge',indices=time_periods,lowBound=0)\n"
   ]
  },
  {
   "cell_type": "markdown",
   "metadata": {},
   "source": [
    "## Assign scalar constants"
   ]
  },
  {
   "cell_type": "code",
   "execution_count": null,
   "metadata": {},
   "outputs": [],
   "source": [
    "efficiency = 0.70\n",
    "min_duration = 4\n",
    "\n",
    "\n",
    "# Capex is the only consideration for cost\n",
    "capex={\n",
    "    'power':800,\n",
    "    'capacity':100,\n",
    "}\n",
    "\n",
    "\n",
    "cost = capex\n",
    "\n",
    "cost\n"
   ]
  },
  {
   "cell_type": "markdown",
   "metadata": {},
   "source": [
    "## Define objective function"
   ]
  },
  {
   "cell_type": "code",
   "execution_count": null,
   "metadata": {},
   "outputs": [],
   "source": [
    "obj_func_capex_total = capacity * cost['capacity'] + power * cost['power']\n",
    "\n",
    "model += obj_func_capex_total"
   ]
  },
  {
   "cell_type": "markdown",
   "metadata": {},
   "source": [
    "## Define constraints "
   ]
  },
  {
   "cell_type": "code",
   "execution_count": null,
   "metadata": {},
   "outputs": [],
   "source": [
    "constraint = capacity >= min_duration * power\n",
    "model += constraint, \"storage duration must be greater than 10\""
   ]
  },
  {
   "cell_type": "code",
   "execution_count": null,
   "metadata": {},
   "outputs": [],
   "source": [
    "time_periods"
   ]
  },
  {
   "cell_type": "code",
   "execution_count": null,
   "metadata": {},
   "outputs": [],
   "source": [
    "for t in time_periods:\n",
    "    constraint = load <= res[t] + dischrg_i[t] - chrg_i[t]\n",
    "    model += constraint, f\"load is supplied (t={t})\"\n"
   ]
  },
  {
   "cell_type": "code",
   "execution_count": null,
   "metadata": {},
   "outputs": [],
   "source": [
    "for t in time_periods:\n",
    "    constraint = chrg_i[t] <= power \n",
    "    model += constraint, f\"storage charge is limited by power rating (t={t})\""
   ]
  },
  {
   "cell_type": "code",
   "execution_count": null,
   "metadata": {},
   "outputs": [],
   "source": [
    "for t in time_periods:\n",
    "    constraint = dischrg_i[t] <= power\n",
    "    model += constraint, f\"storage discharge is limited by power rating (t={t})\""
   ]
  },
  {
   "cell_type": "code",
   "execution_count": null,
   "metadata": {},
   "outputs": [],
   "source": [
    "for t in time_periods:\n",
    "    constraint = level_i[t] <= capacity\n",
    "    model += constraint, f\"storage level cannot be higher then capacity (t={t})\""
   ]
  },
  {
   "cell_type": "code",
   "execution_count": null,
   "metadata": {},
   "outputs": [],
   "source": [
    "#initial_constraint = level_i[0] == 0#capacity\n",
    "t_max = max(time_periods)\n",
    "start_of_year_constraint = level_i[0] == level_i[t_max] - dischrg_i[t_max] + efficiency * chrg_i[t_max]\n",
    "model += start_of_year_constraint, f\"storage level at start is determined by the end\"\n"
   ]
  },
  {
   "cell_type": "code",
   "execution_count": null,
   "metadata": {},
   "outputs": [],
   "source": [
    "for t in time_periods[:-1]:\n",
    "    constraint = level_i[t+1] == level_i[t] - dischrg_i[t] + efficiency * chrg_i[t]\n",
    "    model += constraint, f\"storage level is determined by charge and discharge, and efficiency (t={t})\"\n",
    "    del constraint"
   ]
  },
  {
   "cell_type": "code",
   "execution_count": null,
   "metadata": {},
   "outputs": [],
   "source": [
    "for t in time_periods[:-1]:\n",
    "    constraint = level_i[t] >= dischrg_i[t]\n",
    "    model += constraint, f\"cannot dispatch more than available energy (t={t})\"\n",
    "    del constraint"
   ]
  },
  {
   "cell_type": "markdown",
   "metadata": {},
   "source": [
    "## Solve optimisation"
   ]
  },
  {
   "cell_type": "code",
   "execution_count": null,
   "metadata": {},
   "outputs": [],
   "source": [
    "model.variables()"
   ]
  },
  {
   "cell_type": "code",
   "execution_count": null,
   "metadata": {},
   "outputs": [],
   "source": [
    "status = model.solve()"
   ]
  },
  {
   "cell_type": "code",
   "execution_count": null,
   "metadata": {},
   "outputs": [],
   "source": [
    "status"
   ]
  },
  {
   "cell_type": "markdown",
   "metadata": {},
   "source": [
    "### Verify solve"
   ]
  },
  {
   "cell_type": "code",
   "execution_count": null,
   "metadata": {},
   "outputs": [],
   "source": [
    "print(f\"status: {model.status}, {LpStatus[model.status]}\")\n",
    "if model.status != 1:\n",
    "    raise Exception('Model has not solved')\n"
   ]
  },
  {
   "cell_type": "markdown",
   "metadata": {},
   "source": [
    "## Results"
   ]
  },
  {
   "cell_type": "code",
   "execution_count": null,
   "metadata": {},
   "outputs": [],
   "source": [
    "for var in model.variables():\n",
    "    if var.name in ['capacity','power']:\n",
    "        print(f\"{var.name}: {var.value()}\")"
   ]
  },
  {
   "cell_type": "code",
   "execution_count": null,
   "metadata": {},
   "outputs": [],
   "source": [
    "variables = {}\n",
    "for v in model.variables():\n",
    "    variables[v.name] = v.value()\n",
    "\n",
    "#variables"
   ]
  },
  {
   "cell_type": "code",
   "execution_count": null,
   "metadata": {},
   "outputs": [],
   "source": [
    "var_df = pd.Series(variables).reset_index()\n",
    "var_df.rename(columns={0:'value'},inplace=True)\n",
    "\n",
    "var_df['parameter'] = var_df['index'].str.split('_').str[0]\n",
    "var_df"
   ]
  },
  {
   "cell_type": "code",
   "execution_count": null,
   "metadata": {},
   "outputs": [],
   "source": [
    "time_results = var_df.loc[var_df['parameter'].isin(['storagelevel','charge','discharge'])].copy()\n",
    "\n",
    "time_results['timestep'] = time_results['index'].str.split('_').str[-1]\n",
    "time_results['timestep'] = pd.to_numeric(time_results['timestep'])\n",
    "\n",
    "time_results['time'] = df.index[0]+pd.to_timedelta(time_results['timestep'] + start_date_hours, unit='H')\n",
    "time_results=time_results.sort_values(by=['parameter','time'])"
   ]
  },
  {
   "cell_type": "code",
   "execution_count": null,
   "metadata": {},
   "outputs": [],
   "source": [
    "plot_df = time_results.pivot(index='time',columns='parameter',values='value')\n",
    "plot_df['charge_cumulative'] = plot_df['charge'].cumsum()\n",
    "plot_df['discharge_cumulative'] = plot_df['discharge'].cumsum()\n",
    "\n",
    "\n",
    "plot_df = pd.concat([plot_df,df['Renewable Production']],axis=1)\n",
    "plot_df['Load'] = load\n",
    "plot_df['Curtailment_final'] = plot_df['Renewable Production'] + plot_df['discharge'] - plot_df['charge'] - load \n",
    "plot_df.describe()"
   ]
  },
  {
   "cell_type": "code",
   "execution_count": null,
   "metadata": {},
   "outputs": [],
   "source": [
    "px.line(plot_df,title=f'Storage dispatch. Power {round(variables[\"power\"],0)} capacity {round(variables[\"capacity\"],0)}')"
   ]
  },
  {
   "cell_type": "code",
   "execution_count": null,
   "metadata": {},
   "outputs": [],
   "source": [
    "plot_df['net charge'] = -plot_df['charge']\n",
    "\n",
    "generation_params = [\n",
    "    'net charge',\n",
    "    'discharge',\n",
    "    'Renewable Production'\n",
    "]\n",
    "px.area(plot_df[generation_params],title='Generation minus storage charging')"
   ]
  },
  {
   "cell_type": "code",
   "execution_count": null,
   "metadata": {},
   "outputs": [],
   "source": [
    "px.area(plot_df[generation_params].resample('1m').mean(),title='Monthly generation and storage averages')"
   ]
  },
  {
   "cell_type": "code",
   "execution_count": null,
   "metadata": {},
   "outputs": [],
   "source": []
  }
 ],
 "metadata": {
  "kernelspec": {
   "display_name": "Python 3.8.12 64-bit ('py3-twaice')",
   "language": "python",
   "name": "python3"
  },
  "language_info": {
   "codemirror_mode": {
    "name": "ipython",
    "version": 3
   },
   "file_extension": ".py",
   "mimetype": "text/x-python",
   "name": "python",
   "nbconvert_exporter": "python",
   "pygments_lexer": "ipython3",
   "version": "3.8.12"
  },
  "orig_nbformat": 4,
  "vscode": {
   "interpreter": {
    "hash": "3d1dc97d1bde0c16a0c33116907d87e240972814241db973d31f50ec7b27ea2b"
   }
  }
 },
 "nbformat": 4,
 "nbformat_minor": 2
}
