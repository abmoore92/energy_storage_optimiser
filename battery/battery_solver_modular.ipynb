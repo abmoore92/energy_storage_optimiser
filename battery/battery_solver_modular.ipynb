{
 "cells": [
  {
   "cell_type": "code",
   "execution_count": null,
   "metadata": {},
   "outputs": [],
   "source": [
    "from pulp import *\n",
    "import pandas as pd\n",
    "from models import *\n",
    "import numpy as np\n",
    "from results_analysis import *"
   ]
  },
  {
   "cell_type": "code",
   "execution_count": null,
   "metadata": {},
   "outputs": [],
   "source": [
    "test_mode = False"
   ]
  },
  {
   "cell_type": "markdown",
   "metadata": {},
   "source": [
    "## Load in data"
   ]
  },
  {
   "cell_type": "code",
   "execution_count": null,
   "metadata": {},
   "outputs": [],
   "source": [
    "def load_res_profile(file:str)->pd.Series:\n",
    "\n",
    "    res_norm = pd.read_csv(f'data/renewable_profiles/{file}',skiprows=3,index_col=0)\n",
    "    res_norm.index = pd.to_datetime(res_norm.index)\n",
    "    res_norm = res_norm['electricity']\n",
    "    return res_norm\n",
    "\n",
    "\n",
    "from typing import Dict\n",
    "\n",
    "def generate_res_input(capacities:Dict[str,int],source_files:Dict[str,str]):\n",
    "    data = {}\n",
    "    for name, source in source_files.items():\n",
    "        data[name] = load_res_profile(source)\n",
    "    \n",
    "    profiles_df = pd.concat(data.values(),keys=data.keys(),axis=1)\n",
    "    return Renewables(\n",
    "        names=list(data.keys()),\n",
    "        capacities=capacities,\n",
    "        profiles=profiles_df\n",
    "        )\n",
    "\n",
    "source_files = {\n",
    "    'Wind':'wind_amsterdam.csv',\n",
    "    'Solar':'solar_amsterdam.csv',\n",
    "}\n",
    "\n",
    "res = generate_res_input(\n",
    "    capacities={'Solar':100,'Wind':300},\n",
    "    source_files=source_files\n",
    ")\n",
    "\n",
    "if test_mode:\n",
    "    res.generation = res.generation.iloc[:2]"
   ]
  },
  {
   "cell_type": "code",
   "execution_count": null,
   "metadata": {},
   "outputs": [],
   "source": [
    "time_index = range(res.generation.shape[0])\n",
    "time_index"
   ]
  },
  {
   "cell_type": "markdown",
   "metadata": {},
   "source": [
    "## Define load and renewables size (MW)"
   ]
  },
  {
   "cell_type": "code",
   "execution_count": null,
   "metadata": {},
   "outputs": [],
   "source": [
    "load = Load(\n",
    "    capacity=80,\n",
    "    profile=pd.Series(np.ones(len(time_index)),index=res.generation.index)\n",
    ")\n",
    "load.load"
   ]
  },
  {
   "cell_type": "code",
   "execution_count": null,
   "metadata": {},
   "outputs": [],
   "source": [
    "storage = Storage(\n",
    "    efficiency=0.7,\n",
    "    minimum_duration=10,\n",
    "    capex_power=800,\n",
    "    capex_capacity=100,\n",
    ")"
   ]
  },
  {
   "cell_type": "code",
   "execution_count": null,
   "metadata": {},
   "outputs": [],
   "source": [
    "inputs = ScenarioInputs(\n",
    "    name='BaseCase',\n",
    "    start_date=res.generation.index[0],\n",
    "    time_index=time_index,\n",
    "    renewables =res,\n",
    "    load=load,\n",
    "    storage=storage\n",
    ")"
   ]
  },
  {
   "cell_type": "code",
   "execution_count": null,
   "metadata": {},
   "outputs": [],
   "source": [
    "inputs.renewables.generation"
   ]
  },
  {
   "cell_type": "code",
   "execution_count": null,
   "metadata": {},
   "outputs": [],
   "source": [
    "scenario = ScenarioManager(inputs=inputs)"
   ]
  },
  {
   "cell_type": "code",
   "execution_count": null,
   "metadata": {},
   "outputs": [],
   "source": [
    "scenario.lpmodel"
   ]
  },
  {
   "cell_type": "code",
   "execution_count": null,
   "metadata": {},
   "outputs": [],
   "source": [
    "scenario.lpmodel.variables()"
   ]
  },
  {
   "cell_type": "code",
   "execution_count": null,
   "metadata": {},
   "outputs": [],
   "source": [
    "scenario.lpmodel.solve()"
   ]
  },
  {
   "cell_type": "code",
   "execution_count": null,
   "metadata": {},
   "outputs": [],
   "source": [
    "solve = scenario.solve()"
   ]
  },
  {
   "cell_type": "markdown",
   "metadata": {},
   "source": [
    "## Results"
   ]
  },
  {
   "cell_type": "code",
   "execution_count": null,
   "metadata": {},
   "outputs": [],
   "source": [
    "scenario.lpmodel.status"
   ]
  },
  {
   "cell_type": "code",
   "execution_count": null,
   "metadata": {},
   "outputs": [],
   "source": [
    "\n",
    "\n",
    "get_design_results(scenario)\n",
    "\n"
   ]
  },
  {
   "cell_type": "code",
   "execution_count": null,
   "metadata": {},
   "outputs": [],
   "source": [
    "\n",
    "\n",
    "get_operational_batteryflow_results(scenario)\n",
    "\n"
   ]
  },
  {
   "cell_type": "code",
   "execution_count": null,
   "metadata": {},
   "outputs": [],
   "source": [
    "\n",
    "\n",
    "operational_results = get_full_operation_data(scenario)\n",
    "operational_results"
   ]
  },
  {
   "cell_type": "code",
   "execution_count": null,
   "metadata": {},
   "outputs": [],
   "source": [
    "fig = px.line(operational_results,title=f'a')"
   ]
  },
  {
   "cell_type": "code",
   "execution_count": null,
   "metadata": {},
   "outputs": [],
   "source": [
    "\n",
    "plot_results(scenario,figure_kwargs={'height':900})"
   ]
  }
 ],
 "metadata": {
  "kernelspec": {
   "display_name": "Python 3.8.12 64-bit ('py3-twaice')",
   "language": "python",
   "name": "python3"
  },
  "language_info": {
   "codemirror_mode": {
    "name": "ipython",
    "version": 3
   },
   "file_extension": ".py",
   "mimetype": "text/x-python",
   "name": "python",
   "nbconvert_exporter": "python",
   "pygments_lexer": "ipython3",
   "version": "3.8.12"
  },
  "orig_nbformat": 4,
  "vscode": {
   "interpreter": {
    "hash": "3d1dc97d1bde0c16a0c33116907d87e240972814241db973d31f50ec7b27ea2b"
   }
  }
 },
 "nbformat": 4,
 "nbformat_minor": 2
}
